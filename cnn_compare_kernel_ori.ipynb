{
 "cells": [
  {
   "cell_type": "code",
   "execution_count": 1,
   "metadata": {},
   "outputs": [],
   "source": [
    "import os, sys\n",
    "import tensorflow as tf\n",
    "import numpy as np\n",
    "import time\n",
    "import subprocess\n",
    "import matplotlib.pyplot as plt\n",
    "from scipy import stats\n",
    "from sklearn.model_selection import train_test_split\n",
    "from sklearn.manifold import TSNE"
   ]
  },
  {
   "cell_type": "code",
   "execution_count": 2,
   "metadata": {},
   "outputs": [
    {
     "name": "stdout",
     "output_type": "stream",
     "text": [
      "2.4.0\n"
     ]
    }
   ],
   "source": [
    "import tensorflow.keras as keras\n",
    "print(keras.__version__)\n",
    "from tensorflow.keras.layers import Flatten, Input, Dense\n",
    "from tensorflow.keras.layers import Dropout, Conv1D, Activation, MaxPooling1D\n",
    "from tensorflow.keras.models import Model, Sequential\n",
    "from tensorflow.keras.optimizers import Adam, RMSprop\n",
    "from sklearn.metrics import classification_report\n",
    "from tensorflow.keras.layers import BatchNormalization\n",
    "from sklearn.metrics import roc_curve\n",
    "from tensorflow.keras import backend as K\n",
    "#from tensorflow import set_random_seed"
   ]
  },
  {
   "cell_type": "code",
   "execution_count": 3,
   "metadata": {},
   "outputs": [
    {
     "name": "stdout",
     "output_type": "stream",
     "text": [
      "C:\\Users\\user\\Anaconda3\\python.exe\n"
     ]
    }
   ],
   "source": [
    "import sys\n",
    "print(sys.executable)"
   ]
  },
  {
   "cell_type": "code",
   "execution_count": 4,
   "metadata": {},
   "outputs": [
    {
     "data": {
      "text/plain": [
       "'2.4.1'"
      ]
     },
     "execution_count": 4,
     "metadata": {},
     "output_type": "execute_result"
    }
   ],
   "source": [
    " tf.__version__"
   ]
  },
  {
   "cell_type": "code",
   "execution_count": 5,
   "metadata": {},
   "outputs": [
    {
     "name": "stdout",
     "output_type": "stream",
     "text": [
      "scikit-learn                       0.20.3\n",
      "Note: you may need to restart the kernel to use updated packages.\n"
     ]
    },
    {
     "name": "stderr",
     "output_type": "stream",
     "text": [
      "WARNING: Ignoring invalid distribution -pencv-python (c:\\users\\user\\anaconda3\\lib\\site-packages)\n",
      "WARNING: Ignoring invalid distribution -ensorflow-gpu (c:\\users\\user\\anaconda3\\lib\\site-packages)\n",
      "WARNING: Ignoring invalid distribution -cipy (c:\\users\\user\\anaconda3\\lib\\site-packages)\n",
      "WARNING: Ignoring invalid distribution -pencv-python (c:\\users\\user\\anaconda3\\lib\\site-packages)\n",
      "WARNING: Ignoring invalid distribution -ensorflow-gpu (c:\\users\\user\\anaconda3\\lib\\site-packages)\n",
      "WARNING: Ignoring invalid distribution -cipy (c:\\users\\user\\anaconda3\\lib\\site-packages)\n",
      "WARNING: Ignoring invalid distribution -pencv-python (c:\\users\\user\\anaconda3\\lib\\site-packages)\n",
      "WARNING: Ignoring invalid distribution -ensorflow-gpu (c:\\users\\user\\anaconda3\\lib\\site-packages)\n",
      "WARNING: Ignoring invalid distribution -cipy (c:\\users\\user\\anaconda3\\lib\\site-packages)\n",
      "WARNING: Ignoring invalid distribution -pencv-python (c:\\users\\user\\anaconda3\\lib\\site-packages)\n",
      "WARNING: Ignoring invalid distribution -ensorflow-gpu (c:\\users\\user\\anaconda3\\lib\\site-packages)\n",
      "WARNING: Ignoring invalid distribution -cipy (c:\\users\\user\\anaconda3\\lib\\site-packages)\n"
     ]
    }
   ],
   "source": [
    "pip list | grep scikit-learn\n"
   ]
  },
  {
   "cell_type": "code",
   "execution_count": 6,
   "metadata": {},
   "outputs": [],
   "source": [
    "#load datasets\n",
    "#diseases: ['N', 'S', 'V', 'F', 'Q']\n",
    "def get_datasets(diseases, nr_inputs=260):\n",
    "    datasets = []\n",
    "    sample_dir = \"datasets/samples\"\n",
    "    for idx, disease in enumerate(diseases):\n",
    "        dataset_dir = os.path.join(sample_dir, str(idx))\n",
    "        datasets.append([])\n",
    "        for record in sorted(os.listdir(dataset_dir)):\n",
    "            #listdir: 디렉토리 내 모든 파일명 반환\n",
    "            record_path = os.path.join(dataset_dir, record)\n",
    "            with open(record_path) as dis:\n",
    "                dataset = np.loadtxt(dis)\n",
    "                if len(dataset) != nr_inputs:\n",
    "                    print(len(dataset), nr_inputs)\n",
    "                    continue\n",
    "                datasets[idx].append(dataset)\n",
    "                #datasets의 크기: 5* 각자 파일 개수 합 \n",
    "    return datasets"
   ]
  },
  {
   "cell_type": "code",
   "execution_count": 7,
   "metadata": {},
   "outputs": [],
   "source": [
    "#모든 데이터들을 표준화\n",
    "def normalize_data(datasets):\n",
    "    normalized=[]\n",
    "    for case in datasets: \n",
    "        cases=[]\n",
    "        for data in case:\n",
    "            mu = np.mean(data) # 평균\n",
    "            sigma = np.std(data) #분산 \n",
    "            #fixed = (np.array(data) - mu) / sigma\n",
    "            fixed = stats.zscore(data)\n",
    "            cases.append(fixed)\n",
    "        normalized.append(cases) \n",
    "    return normalized"
   ]
  },
  {
   "cell_type": "code",
   "execution_count": 8,
   "metadata": {},
   "outputs": [],
   "source": [
    "def generate_data(data):\n",
    "    #np.random.uniform : 균등분포에서 난수 생성\n",
    "    s_thd = np.random.uniform(low=0.10, high=0.18, size=None)\n",
    "    m_thd = np.random.uniform(low=-0.2, high=0.2, size=None)\n",
    "    mu, sigma = np.mean(data), np.std(data)\n",
    "    noise = np.random.normal(mu, sigma, [data.shape[0],]) * s_thd + m_thd\n",
    "    fixed = data + noise\n",
    "    return fixed"
   ]
  },
  {
   "cell_type": "code",
   "execution_count": 9,
   "metadata": {},
   "outputs": [],
   "source": [
    "#datasets : 표준화된 datasets, data_length idx별 데이터 크기\n",
    "def generate_datasets(datasets, data_length):\n",
    "    generate_data_num = [max(data_length) - x for x in data_length]\n",
    "    for idx, num in enumerate(generate_data_num):\n",
    "        #idx : 5, num : data_length 최댓값 - data_length[idx]\n",
    "        for i in range(num):\n",
    "            target_idx = np.random.randint(data_length[idx], size=None)\n",
    "            target_data = datasets[idx][target_idx]\n",
    "            datasets[idx].append(generate_data(target_data).tolist())\n",
    "            #tolist(): 다른 줄에 있는 같은 index 값을 묶어줌\n",
    "    return datasets\n",
    "\n",
    "#길이가 다른 idx 별 data들을 max 크기대로 맞춰줌"
   ]
  },
  {
   "cell_type": "code",
   "execution_count": 10,
   "metadata": {},
   "outputs": [],
   "source": [
    "#train_data와 valid_data를 9:1로 나눔\n",
    "def split_train_valid(datasets, split=0.9):\n",
    "    data_length = [len(x) for x in datasets]\n",
    "    train_length = int(min(data_length) * split)\n",
    "    train_data = [x[:train_length] for x in datasets]\n",
    "    valid_data = [x[train_length:] for x in datasets]\n",
    "    return train_data, valid_data"
   ]
  },
  {
   "cell_type": "code",
   "execution_count": 11,
   "metadata": {},
   "outputs": [],
   "source": [
    "def get_label(data):\n",
    "    label= [[idx]*len(x) for idx, x in enumerate(data)]\n",
    "    label= label[0]+label[1]+label[2]+label[3]+label[4]\n",
    "    return label"
   ]
  },
  {
   "cell_type": "code",
   "execution_count": 12,
   "metadata": {},
   "outputs": [],
   "source": [
    "#conv+배치정규화+활성화+maxpooling 4번 반복 \n",
    "def get_cnn_model(filter_num,filter_size, num_classes=5, \n",
    "                  activation='relu', maxpool_size=2, dim=260):\n",
    "    \n",
    "    cnn_model = Sequential()\n",
    "    cnn_model.add(Conv1D (kernel_size=filter_size,\n",
    "                          filters=filter_num, \n",
    "                          input_shape=(dim,1)))\n",
    "    cnn_model.add(BatchNormalization())\n",
    "    cnn_model.add(Activation(activation))\n",
    "    cnn_model.add(MaxPooling1D(pool_size=(maxpool_size)))\n",
    "    \n",
    "    cnn_model.add(Conv1D(kernel_size=filter_size,\n",
    "                         filters=filter_num))\n",
    "    cnn_model.add(BatchNormalization())\n",
    "    cnn_model.add(Activation(activation))\n",
    "    cnn_model.add(MaxPooling1D(pool_size=(maxpool_size)))\n",
    "    \n",
    "    cnn_model.add(Conv1D(kernel_size=filter_size,\n",
    "                         filters=filter_num))\n",
    "    cnn_model.add(BatchNormalization())\n",
    "    cnn_model.add(Activation(activation))\n",
    "    cnn_model.add(MaxPooling1D(pool_size=(maxpool_size)))\n",
    "    \n",
    "    cnn_model.add(Conv1D(kernel_size=filter_size,\n",
    "                         filters=filter_num))\n",
    "    cnn_model.add(BatchNormalization())\n",
    "    cnn_model.add(Activation(activation))\n",
    "    cnn_model.add(MaxPooling1D(pool_size=(maxpool_size)))\n",
    "    \n",
    "    cnn_model.add(Flatten())\n",
    "    cnn_model.add(Dense(30))\n",
    "    cnn_model.add(BatchNormalization())\n",
    "    cnn_model.add(Activation(activation))\n",
    "    cnn_model.add(Dense(20))\n",
    "    cnn_model.add(Activation(activation))\n",
    "    cnn_model.add(Dense(num_classes))\n",
    "    cnn_model.add(Activation('softmax'))\n",
    "    return cnn_model"
   ]
  },
  {
   "cell_type": "code",
   "execution_count": 13,
   "metadata": {},
   "outputs": [],
   "source": [
    "def fit_model(model, x_train, y_train, x_test, y_test, opt, \n",
    "             batch_size=128, epochs=30, shuffle=True,\n",
    "             loss='categorical_crossentropy',\n",
    "             metrics=['accuracy'], verbose=0):\n",
    "    \n",
    "    model.compile(loss=loss, optimizer=opt, metrics=metrics)\n",
    "    history = model.fit(x_train, y_train, \n",
    "                        batch_size=batch_size,\n",
    "                        epochs=epochs,\n",
    "                        validation_data=(x_test, y_test),\n",
    "                        shuffle=shuffle,\n",
    "                       verbose=verbose)\n",
    "    # verbose: 학습할 때 보여지는 정보 조정\n",
    "    # shuffle: overfitting 을 방지하기 위해 데이터 셋 shuffle\n",
    "    return history"
   ]
  },
  {
   "cell_type": "code",
   "execution_count": 14,
   "metadata": {},
   "outputs": [],
   "source": [
    "def get_predict_numpy(model, datasets):\n",
    "    rs = model.predict(datasets)\n",
    "    return rs"
   ]
  },
  {
   "cell_type": "code",
   "execution_count": 15,
   "metadata": {},
   "outputs": [],
   "source": [
    "def get_total_num(y_true, y_pred, label_num):\n",
    "    total_nums=[]\n",
    "    for a in range(label_num):\n",
    "        nums=[]\n",
    "        idx = np.array(y_true) == a\n",
    "        for case in range(label_num):\n",
    "            nums.append(sum(np.array(y_pred)[idx]==case))\n",
    "        total_nums.append(nums)\n",
    "    return total_nums"
   ]
  },
  {
   "cell_type": "code",
   "execution_count": 16,
   "metadata": {},
   "outputs": [],
   "source": [
    "#K.tensorflow_backend._get_available_gpus()"
   ]
  },
  {
   "cell_type": "code",
   "execution_count": 30,
   "metadata": {},
   "outputs": [],
   "source": [
    "np.random.seed(0)#np\n",
    "tf.random.set_seed(2) # set_random_seed(2) #tf\n",
    "#재시작할 때 같은 난수가 발생되도록 seed 설정\n",
    "heart_diseases = ['N', 'S', 'V', 'F', 'Q']\n",
    "num_classes=5"
   ]
  },
  {
   "cell_type": "code",
   "execution_count": 31,
   "metadata": {
    "scrolled": true
   },
   "outputs": [
    {
     "data": {
      "image/png": "[encoded data removed]",
      "text/plain": [
       "<Figure size 432x288 with 1 Axes>"
      ]
     },
     "metadata": {
      "needs_background": "light"
     },
     "output_type": "display_data"
    }
   ],
   "source": [
    "datasets = get_datasets(heart_diseases)\n",
    "for i in range(20):\n",
    "    plt.plot(datasets[0][i])"
   ]
  },
  {
   "cell_type": "code",
   "execution_count": 39,
   "metadata": {},
   "outputs": [
    {
     "name": "stdout",
     "output_type": "stream",
     "text": [
      "[34657, 34657, 34657, 34657, 34657]\n"
     ]
    }
   ],
   "source": [
    "datasets = get_datasets(heart_diseases) #dataset을 directory에서 가져옴\n",
    "#print(np.shape(x for x in datasets))\n",
    "#print(datasets[0][0])\n",
    "datasets = normalize_data(datasets) #dataset을 표준화 \n",
    "#datasets = [x[:10000] for x in datasets]\n",
    "data_length = [len(x) for x in datasets] \n",
    "#print(data_length) \n",
    "# >> [34504, 2199, 6987, 802, 3215]\n",
    "datasets = generate_datasets(datasets, data_length)# data_length 중 최댓값을 기준으로 데이터 갯수 맞춤\n",
    "generated_data_length = [len(x) for x in datasets]\n",
    "print(generated_data_length)\n",
    "#>> [34504, 34504, 34504, 34504, 34504]"
   ]
  },
  {
   "cell_type": "code",
   "execution_count": 41,
   "metadata": {},
   "outputs": [
    {
     "name": "stdout",
     "output_type": "stream",
     "text": [
      "(5, 34657, 260)\n",
      "(173285, 260, 1)\n",
      "173285\n"
     ]
    }
   ],
   "source": [
    "train_data = datasets\n",
    "train_label = get_label(train_data)\n",
    "print(np.shape(train_data))\n",
    "train_data = [x for case in train_data for x in case]\n",
    "train_data = np.reshape(train_data, (len(train_data), 260, 1))\n",
    "print(np.shape(train_data))\n",
    "print(len(train_label))"
   ]
  },
  {
   "cell_type": "code",
   "execution_count": 36,
   "metadata": {},
   "outputs": [],
   "source": [
    "x_train, x_test, y_train, y_test = train_test_split(train_data, \n",
    "                                                    train_label,\n",
    "                                                    train_size=0.8)\n",
    "y_train = keras.utils.to_categorical(y_train, num_classes)\n",
    "y_test = keras.utils.to_categorical(y_test, num_classes)\n",
    "\n",
    "#to_categorical: one-hot 인코딩 시켜주는 함수"
   ]
  },
  {
   "cell_type": "code",
   "execution_count": 23,
   "metadata": {},
   "outputs": [],
   "source": [
    "valid_data = datasets\n",
    "valid_label = get_label(valid_data)\n",
    "valid_label = keras.utils.to_categorical(valid_label, num_classes)"
   ]
  },
  {
   "cell_type": "code",
   "execution_count": 24,
   "metadata": {},
   "outputs": [
    {
     "name": "stdout",
     "output_type": "stream",
     "text": [
      "======================================================\n",
      "[filter num]4  [filter size]4\n",
      "------------------------------------------------------\n",
      ">>fitting model..\n",
      ">>fitting complete\n",
      ">>predict model..\n",
      ">>predict complete\n",
      "\n",
      "[scores]\n",
      "(micro-avg)\n",
      "{'precision': 0.8619903626972906, 'recall': 0.8619903626972906, 'f1-score': 0.8619903626972906, 'support': 34657}\n",
      "\n",
      "[row:label | col:prediction]\n",
      "[6723, 35, 173, 1, 4]\n",
      "[1718, 5163, 44, 7, 8]\n",
      "[1303, 18, 5466, 74, 17]\n",
      "[1008, 15, 169, 5736, 5]\n",
      "[144, 16, 21, 3, 6786]\n",
      "\n",
      "[save result]\n",
      "======================================================\n",
      "\n",
      "\n",
      "======================================================\n",
      "[filter num]8  [filter size]4\n",
      "------------------------------------------------------\n",
      ">>fitting model..\n",
      ">>fitting complete\n",
      ">>predict model..\n",
      ">>predict complete\n",
      "\n",
      "[scores]\n",
      "(micro-avg)\n",
      "{'precision': 0.9517269238537669, 'recall': 0.9517269238537669, 'f1-score': 0.9517269238537669, 'support': 34657}\n",
      "\n",
      "[row:label | col:prediction]\n",
      "[5937, 581, 394, 7, 17]\n",
      "[65, 6851, 8, 11, 5]\n",
      "[324, 39, 6432, 72, 11]\n",
      "[27, 37, 15, 6841, 13]\n",
      "[7, 37, 3, 0, 6923]\n",
      "\n",
      "[save result]\n",
      "======================================================\n",
      "\n",
      "\n",
      "======================================================\n",
      "[filter num]12  [filter size]4\n",
      "------------------------------------------------------\n",
      ">>fitting model..\n"
     ]
    },
    {
     "ename": "KeyboardInterrupt",
     "evalue": "",
     "output_type": "error",
     "traceback": [
      "\u001b[1;31m---------------------------------------------------------------------------\u001b[0m",
      "\u001b[1;31mKeyboardInterrupt\u001b[0m                         Traceback (most recent call last)",
      "\u001b[1;32m<ipython-input-24-f751d198d85e>\u001b[0m in \u001b[0;36m<module>\u001b[1;34m\u001b[0m\n\u001b[0;32m     50\u001b[0m                             \u001b[0mepochs\u001b[0m\u001b[1;33m=\u001b[0m\u001b[0mepochs\u001b[0m\u001b[1;33m,\u001b[0m\u001b[1;33m\u001b[0m\u001b[1;33m\u001b[0m\u001b[0m\n\u001b[0;32m     51\u001b[0m                             \u001b[0mverbose\u001b[0m\u001b[1;33m=\u001b[0m\u001b[1;36m0\u001b[0m\u001b[1;33m,\u001b[0m\u001b[1;33m\u001b[0m\u001b[1;33m\u001b[0m\u001b[0m\n\u001b[1;32m---> 52\u001b[1;33m                             \u001b[0mbatch_size\u001b[0m\u001b[1;33m=\u001b[0m\u001b[0mbatch_size\u001b[0m\u001b[1;33m\u001b[0m\u001b[1;33m\u001b[0m\u001b[0m\n\u001b[0m\u001b[0;32m     53\u001b[0m                             )\n\u001b[0;32m     54\u001b[0m \u001b[1;33m\u001b[0m\u001b[0m\n",
      "\u001b[1;32m<ipython-input-13-b2a8a457caab>\u001b[0m in \u001b[0;36mfit_model\u001b[1;34m(model, x_train, y_train, x_test, y_test, opt, batch_size, epochs, shuffle, loss, metrics, verbose)\u001b[0m\n\u001b[0;32m     10\u001b[0m                         \u001b[0mvalidation_data\u001b[0m\u001b[1;33m=\u001b[0m\u001b[1;33m(\u001b[0m\u001b[0mx_test\u001b[0m\u001b[1;33m,\u001b[0m \u001b[0my_test\u001b[0m\u001b[1;33m)\u001b[0m\u001b[1;33m,\u001b[0m\u001b[1;33m\u001b[0m\u001b[1;33m\u001b[0m\u001b[0m\n\u001b[0;32m     11\u001b[0m                         \u001b[0mshuffle\u001b[0m\u001b[1;33m=\u001b[0m\u001b[0mshuffle\u001b[0m\u001b[1;33m,\u001b[0m\u001b[1;33m\u001b[0m\u001b[1;33m\u001b[0m\u001b[0m\n\u001b[1;32m---> 12\u001b[1;33m                        verbose=verbose)\n\u001b[0m\u001b[0;32m     13\u001b[0m     \u001b[1;31m# verbose: 학습할 때 보여지는 정보 조정\u001b[0m\u001b[1;33m\u001b[0m\u001b[1;33m\u001b[0m\u001b[1;33m\u001b[0m\u001b[0m\n\u001b[0;32m     14\u001b[0m     \u001b[1;31m# shuffle: overfitting 을 방지하기 위해 데이터 셋 shuffle\u001b[0m\u001b[1;33m\u001b[0m\u001b[1;33m\u001b[0m\u001b[1;33m\u001b[0m\u001b[0m\n",
      "\u001b[1;32m~\\Anaconda3\\lib\\site-packages\\tensorflow\\python\\keras\\engine\\training.py\u001b[0m in \u001b[0;36mfit\u001b[1;34m(self, x, y, batch_size, epochs, verbose, callbacks, validation_split, validation_data, shuffle, class_weight, sample_weight, initial_epoch, steps_per_epoch, validation_steps, validation_batch_size, validation_freq, max_queue_size, workers, use_multiprocessing)\u001b[0m\n\u001b[0;32m   1098\u001b[0m                 _r=1):\n\u001b[0;32m   1099\u001b[0m               \u001b[0mcallbacks\u001b[0m\u001b[1;33m.\u001b[0m\u001b[0mon_train_batch_begin\u001b[0m\u001b[1;33m(\u001b[0m\u001b[0mstep\u001b[0m\u001b[1;33m)\u001b[0m\u001b[1;33m\u001b[0m\u001b[1;33m\u001b[0m\u001b[0m\n\u001b[1;32m-> 1100\u001b[1;33m               \u001b[0mtmp_logs\u001b[0m \u001b[1;33m=\u001b[0m \u001b[0mself\u001b[0m\u001b[1;33m.\u001b[0m\u001b[0mtrain_function\u001b[0m\u001b[1;33m(\u001b[0m\u001b[0miterator\u001b[0m\u001b[1;33m)\u001b[0m\u001b[1;33m\u001b[0m\u001b[1;33m\u001b[0m\u001b[0m\n\u001b[0m\u001b[0;32m   1101\u001b[0m               \u001b[1;32mif\u001b[0m \u001b[0mdata_handler\u001b[0m\u001b[1;33m.\u001b[0m\u001b[0mshould_sync\u001b[0m\u001b[1;33m:\u001b[0m\u001b[1;33m\u001b[0m\u001b[1;33m\u001b[0m\u001b[0m\n\u001b[0;32m   1102\u001b[0m                 \u001b[0mcontext\u001b[0m\u001b[1;33m.\u001b[0m\u001b[0masync_wait\u001b[0m\u001b[1;33m(\u001b[0m\u001b[1;33m)\u001b[0m\u001b[1;33m\u001b[0m\u001b[1;33m\u001b[0m\u001b[0m\n",
      "\u001b[1;32m~\\Anaconda3\\lib\\site-packages\\tensorflow\\python\\eager\\def_function.py\u001b[0m in \u001b[0;36m__call__\u001b[1;34m(self, *args, **kwds)\u001b[0m\n\u001b[0;32m    826\u001b[0m     \u001b[0mtracing_count\u001b[0m \u001b[1;33m=\u001b[0m \u001b[0mself\u001b[0m\u001b[1;33m.\u001b[0m\u001b[0mexperimental_get_tracing_count\u001b[0m\u001b[1;33m(\u001b[0m\u001b[1;33m)\u001b[0m\u001b[1;33m\u001b[0m\u001b[1;33m\u001b[0m\u001b[0m\n\u001b[0;32m    827\u001b[0m     \u001b[1;32mwith\u001b[0m \u001b[0mtrace\u001b[0m\u001b[1;33m.\u001b[0m\u001b[0mTrace\u001b[0m\u001b[1;33m(\u001b[0m\u001b[0mself\u001b[0m\u001b[1;33m.\u001b[0m\u001b[0m_name\u001b[0m\u001b[1;33m)\u001b[0m \u001b[1;32mas\u001b[0m \u001b[0mtm\u001b[0m\u001b[1;33m:\u001b[0m\u001b[1;33m\u001b[0m\u001b[1;33m\u001b[0m\u001b[0m\n\u001b[1;32m--> 828\u001b[1;33m       \u001b[0mresult\u001b[0m \u001b[1;33m=\u001b[0m \u001b[0mself\u001b[0m\u001b[1;33m.\u001b[0m\u001b[0m_call\u001b[0m\u001b[1;33m(\u001b[0m\u001b[1;33m*\u001b[0m\u001b[0margs\u001b[0m\u001b[1;33m,\u001b[0m \u001b[1;33m**\u001b[0m\u001b[0mkwds\u001b[0m\u001b[1;33m)\u001b[0m\u001b[1;33m\u001b[0m\u001b[1;33m\u001b[0m\u001b[0m\n\u001b[0m\u001b[0;32m    829\u001b[0m       \u001b[0mcompiler\u001b[0m \u001b[1;33m=\u001b[0m \u001b[1;34m\"xla\"\u001b[0m \u001b[1;32mif\u001b[0m \u001b[0mself\u001b[0m\u001b[1;33m.\u001b[0m\u001b[0m_experimental_compile\u001b[0m \u001b[1;32melse\u001b[0m \u001b[1;34m\"nonXla\"\u001b[0m\u001b[1;33m\u001b[0m\u001b[1;33m\u001b[0m\u001b[0m\n\u001b[0;32m    830\u001b[0m       \u001b[0mnew_tracing_count\u001b[0m \u001b[1;33m=\u001b[0m \u001b[0mself\u001b[0m\u001b[1;33m.\u001b[0m\u001b[0mexperimental_get_tracing_count\u001b[0m\u001b[1;33m(\u001b[0m\u001b[1;33m)\u001b[0m\u001b[1;33m\u001b[0m\u001b[1;33m\u001b[0m\u001b[0m\n",
      "\u001b[1;32m~\\Anaconda3\\lib\\site-packages\\tensorflow\\python\\eager\\def_function.py\u001b[0m in \u001b[0;36m_call\u001b[1;34m(self, *args, **kwds)\u001b[0m\n\u001b[0;32m    853\u001b[0m       \u001b[1;31m# In this case we have created variables on the first call, so we run the\u001b[0m\u001b[1;33m\u001b[0m\u001b[1;33m\u001b[0m\u001b[1;33m\u001b[0m\u001b[0m\n\u001b[0;32m    854\u001b[0m       \u001b[1;31m# defunned version which is guaranteed to never create variables.\u001b[0m\u001b[1;33m\u001b[0m\u001b[1;33m\u001b[0m\u001b[1;33m\u001b[0m\u001b[0m\n\u001b[1;32m--> 855\u001b[1;33m       \u001b[1;32mreturn\u001b[0m \u001b[0mself\u001b[0m\u001b[1;33m.\u001b[0m\u001b[0m_stateless_fn\u001b[0m\u001b[1;33m(\u001b[0m\u001b[1;33m*\u001b[0m\u001b[0margs\u001b[0m\u001b[1;33m,\u001b[0m \u001b[1;33m**\u001b[0m\u001b[0mkwds\u001b[0m\u001b[1;33m)\u001b[0m  \u001b[1;31m# pylint: disable=not-callable\u001b[0m\u001b[1;33m\u001b[0m\u001b[1;33m\u001b[0m\u001b[0m\n\u001b[0m\u001b[0;32m    856\u001b[0m     \u001b[1;32melif\u001b[0m \u001b[0mself\u001b[0m\u001b[1;33m.\u001b[0m\u001b[0m_stateful_fn\u001b[0m \u001b[1;32mis\u001b[0m \u001b[1;32mnot\u001b[0m \u001b[1;32mNone\u001b[0m\u001b[1;33m:\u001b[0m\u001b[1;33m\u001b[0m\u001b[1;33m\u001b[0m\u001b[0m\n\u001b[0;32m    857\u001b[0m       \u001b[1;31m# Release the lock early so that multiple threads can perform the call\u001b[0m\u001b[1;33m\u001b[0m\u001b[1;33m\u001b[0m\u001b[1;33m\u001b[0m\u001b[0m\n",
      "\u001b[1;32m~\\Anaconda3\\lib\\site-packages\\tensorflow\\python\\eager\\function.py\u001b[0m in \u001b[0;36m__call__\u001b[1;34m(self, *args, **kwargs)\u001b[0m\n\u001b[0;32m   2941\u001b[0m        filtered_flat_args) = self._maybe_define_function(args, kwargs)\n\u001b[0;32m   2942\u001b[0m     return graph_function._call_flat(\n\u001b[1;32m-> 2943\u001b[1;33m         filtered_flat_args, captured_inputs=graph_function.captured_inputs)  # pylint: disable=protected-access\n\u001b[0m\u001b[0;32m   2944\u001b[0m \u001b[1;33m\u001b[0m\u001b[0m\n\u001b[0;32m   2945\u001b[0m   \u001b[1;33m@\u001b[0m\u001b[0mproperty\u001b[0m\u001b[1;33m\u001b[0m\u001b[1;33m\u001b[0m\u001b[0m\n",
      "\u001b[1;32m~\\Anaconda3\\lib\\site-packages\\tensorflow\\python\\eager\\function.py\u001b[0m in \u001b[0;36m_call_flat\u001b[1;34m(self, args, captured_inputs, cancellation_manager)\u001b[0m\n\u001b[0;32m   1917\u001b[0m       \u001b[1;31m# No tape is watching; skip to running the function.\u001b[0m\u001b[1;33m\u001b[0m\u001b[1;33m\u001b[0m\u001b[1;33m\u001b[0m\u001b[0m\n\u001b[0;32m   1918\u001b[0m       return self._build_call_outputs(self._inference_function.call(\n\u001b[1;32m-> 1919\u001b[1;33m           ctx, args, cancellation_manager=cancellation_manager))\n\u001b[0m\u001b[0;32m   1920\u001b[0m     forward_backward = self._select_forward_and_backward_functions(\n\u001b[0;32m   1921\u001b[0m         \u001b[0margs\u001b[0m\u001b[1;33m,\u001b[0m\u001b[1;33m\u001b[0m\u001b[1;33m\u001b[0m\u001b[0m\n",
      "\u001b[1;32m~\\Anaconda3\\lib\\site-packages\\tensorflow\\python\\eager\\function.py\u001b[0m in \u001b[0;36mcall\u001b[1;34m(self, ctx, args, cancellation_manager)\u001b[0m\n\u001b[0;32m    558\u001b[0m               \u001b[0minputs\u001b[0m\u001b[1;33m=\u001b[0m\u001b[0margs\u001b[0m\u001b[1;33m,\u001b[0m\u001b[1;33m\u001b[0m\u001b[1;33m\u001b[0m\u001b[0m\n\u001b[0;32m    559\u001b[0m               \u001b[0mattrs\u001b[0m\u001b[1;33m=\u001b[0m\u001b[0mattrs\u001b[0m\u001b[1;33m,\u001b[0m\u001b[1;33m\u001b[0m\u001b[1;33m\u001b[0m\u001b[0m\n\u001b[1;32m--> 560\u001b[1;33m               ctx=ctx)\n\u001b[0m\u001b[0;32m    561\u001b[0m         \u001b[1;32melse\u001b[0m\u001b[1;33m:\u001b[0m\u001b[1;33m\u001b[0m\u001b[1;33m\u001b[0m\u001b[0m\n\u001b[0;32m    562\u001b[0m           outputs = execute.execute_with_cancellation(\n",
      "\u001b[1;32m~\\Anaconda3\\lib\\site-packages\\tensorflow\\python\\eager\\execute.py\u001b[0m in \u001b[0;36mquick_execute\u001b[1;34m(op_name, num_outputs, inputs, attrs, ctx, name)\u001b[0m\n\u001b[0;32m     58\u001b[0m     \u001b[0mctx\u001b[0m\u001b[1;33m.\u001b[0m\u001b[0mensure_initialized\u001b[0m\u001b[1;33m(\u001b[0m\u001b[1;33m)\u001b[0m\u001b[1;33m\u001b[0m\u001b[1;33m\u001b[0m\u001b[0m\n\u001b[0;32m     59\u001b[0m     tensors = pywrap_tfe.TFE_Py_Execute(ctx._handle, device_name, op_name,\n\u001b[1;32m---> 60\u001b[1;33m                                         inputs, attrs, num_outputs)\n\u001b[0m\u001b[0;32m     61\u001b[0m   \u001b[1;32mexcept\u001b[0m \u001b[0mcore\u001b[0m\u001b[1;33m.\u001b[0m\u001b[0m_NotOkStatusException\u001b[0m \u001b[1;32mas\u001b[0m \u001b[0me\u001b[0m\u001b[1;33m:\u001b[0m\u001b[1;33m\u001b[0m\u001b[1;33m\u001b[0m\u001b[0m\n\u001b[0;32m     62\u001b[0m     \u001b[1;32mif\u001b[0m \u001b[0mname\u001b[0m \u001b[1;32mis\u001b[0m \u001b[1;32mnot\u001b[0m \u001b[1;32mNone\u001b[0m\u001b[1;33m:\u001b[0m\u001b[1;33m\u001b[0m\u001b[1;33m\u001b[0m\u001b[0m\n",
      "\u001b[1;31mKeyboardInterrupt\u001b[0m: "
     ]
    }
   ],
   "source": [
    "#test case of filter size\n",
    "filter_size=[4,8,16]\n",
    "#filter_size=[4,12]\n",
    "\n",
    "\n",
    "#test case of filter num\n",
    "filter_num=[4,8,12,16]\n",
    "#filter_num=[32]\n",
    "\n",
    "\n",
    "#test epochs\n",
    "epochs=30\n",
    "#learning rate\n",
    "lr=0.005\n",
    "#optimizer\n",
    "opt = keras.optimizers.Adam(lr=lr)\n",
    "#batch-size\n",
    "batch_size = 2048#fix value if appear memory error\n",
    "\n",
    "#history\n",
    "rs_history=[]\n",
    "#model\n",
    "rs_model=[]\n",
    "#pred\n",
    "rs_pred=[]\n",
    "#report\n",
    "rs_report=[]\n",
    "\n",
    "for size in filter_size:\n",
    "    for num in filter_num:\n",
    "        print(\"======================================================\")\n",
    "        \n",
    "    #with K.tensorflow_backend.tf.device('/gpu:0'):\n",
    "        ##############################\n",
    "        #get cnn model\n",
    "        model = get_cnn_model(filter_num=num ,filter_size=size)\n",
    "        print('[filter num]{}  [filter size]{}'.format(num,size))\n",
    "        print(\"------------------------------------------------------\")\n",
    "\n",
    "        ##############################\n",
    "        #compile and fit model\n",
    "        print(\">>fitting model..\")\n",
    "\n",
    "        history = fit_model(model=model, \n",
    "                            x_train=x_train,\n",
    "                            y_train=y_train,\n",
    "                            x_test=x_test,\n",
    "                            y_test=y_test,\n",
    "                            opt=opt,\n",
    "                            epochs=epochs,\n",
    "                            verbose=0,\n",
    "                            batch_size=batch_size\n",
    "                            )\n",
    "            \n",
    "        print(\">>fitting complete\")\n",
    "            \n",
    "        ##############################\n",
    "        #predict label\n",
    "        print(\">>predict model..\")\n",
    "        predict_list = get_predict_numpy(model, x_test)\n",
    "        print(\">>predict complete\")\n",
    "        \n",
    "        ##############################\n",
    "        #data evaluation score\n",
    "        #label/list | precision | recall | f1-score | support\n",
    "        #       0 |       \n",
    "        #       1 |\n",
    "        #       2 |               score                 num\n",
    "        #       3 |\n",
    "        #       4 |  \n",
    "        print()\n",
    "        print(\"[scores]\")\n",
    "        \n",
    "        flatten_true=[np.argmax(x) for x in y_test]\n",
    "        flatten_predict=[np.argmax(x) for x in predict_list]\n",
    "        \n",
    "        report = classification_report(flatten_true, \n",
    "                                    flatten_predict,\n",
    "                                    target_names=heart_diseases, \n",
    "                                    digits=4,\n",
    "                                    output_dict=True)\n",
    "        '''\n",
    "        report = classification_report(flatten_true, \n",
    "                                    flatten_predict,\n",
    "                                    labels = [0,1,2,3,4], \n",
    "                                    digits=4,\n",
    "                                    output_dict=True)\n",
    "        '''\n",
    "        ##############################\n",
    "        #print\n",
    "        ##############################\n",
    "        print('(micro-avg)')\n",
    "        print(report['micro avg'])\n",
    "        \n",
    "        ##############################\n",
    "        #label/pred | 0 | 1 | 2 | 3 | 4 |\n",
    "        #  0 |                          => sum()=datasets num\n",
    "        #  1 |                          => sum()=datasets num\n",
    "        #  2 |         data num         => sum()=datasets num\n",
    "        #  3 |                          => sum()=datasets num\n",
    "        #  4 |                          => sum()=datasets num\n",
    "        ##############################\n",
    "        r_nums = get_total_num(y_true=flatten_true,\n",
    "                              y_pred=flatten_predict,\n",
    "                              label_num=len(heart_diseases))\n",
    "        print()\n",
    "        print('[row:label | col:prediction]')\n",
    "        for r in r_nums:\n",
    "            print(r)\n",
    "        \n",
    "\n",
    "        \n",
    "        ##############################\n",
    "        #save result\n",
    "        ##############################\n",
    "        print()\n",
    "        print('[save result]')\n",
    "        rs_history.append(history)\n",
    "        rs_model.append(model)\n",
    "        rs_pred.append(flatten_predict)\n",
    "        rs_report.append(report)\n",
    "        \n",
    "        \n",
    "        print(\"======================================================\")\n",
    "        print(\"\\n\")"
   ]
  },
  {
   "cell_type": "code",
   "execution_count": null,
   "metadata": {},
   "outputs": [],
   "source": [
    "#test case of filter size\n",
    "filter_size=[4,8,16]\n",
    "#filter_size=[4,12]\n",
    "\n",
    "\n",
    "#test case of filter num\n",
    "filter_num=[4,8,12,16]\n",
    "#filter_num=[32]\n",
    "\n",
    "\n",
    "#test epochs\n",
    "epochs=30\n",
    "#learning rate\n",
    "lr=0.005\n",
    "#optimizer\n",
    "opt = keras.optimizers.Adam(lr=lr)\n",
    "#batch-size\n",
    "batch_size = 2048#fix value if appear memory error\n",
    "\n",
    "#history\n",
    "rs_history_target=[]\n",
    "#model\n",
    "rs_model_target=[]\n",
    "#pred\n",
    "rs_pred_target=[]\n",
    "#report\n",
    "rs_report_target=[]\n",
    "\n",
    "for size in filter_size:\n",
    "    for num in filter_num:\n",
    "        print(\"======================================================\")\n",
    "        \n",
    "    #with K.tensorflow_backend.tf.device('/gpu:0'):\n",
    "        ##############################\n",
    "        #get cnn model\n",
    "        model = get_cnn_model(filter_num=num ,filter_size=size)\n",
    "        print('[filter num]{}  [filter size]{}'.format(num,size))\n",
    "        print(\"------------------------------------------------------\")\n",
    "\n",
    "        ##############################\n",
    "        #compile and fit model\n",
    "        print(\">>fitting model..\")\n",
    "\n",
    "        history = fit_model(model=model, \n",
    "                            x_train=x_train,\n",
    "                            y_train=y_train,\n",
    "                            x_test=x_test,\n",
    "                            y_test=y_test,\n",
    "                            opt=opt,\n",
    "                            epochs=epochs,\n",
    "                            verbose=0,\n",
    "                            batch_size=batch_size\n",
    "                            )\n",
    "            \n",
    "        print(\">>fitting complete\")\n",
    "            \n",
    "        ##############################\n",
    "        #predict label\n",
    "        print(\">>predict model..\")\n",
    "        predict_list = get_predict_numpy(model, x_test)\n",
    "        print(\">>predict complete\")\n",
    "        \n",
    "        ##############################\n",
    "        #data evaluation score\n",
    "        #label/list | precision | recall | f1-score | support\n",
    "        #       0 |       \n",
    "        #       1 |\n",
    "        #       2 |               score                 num\n",
    "        #       3 |\n",
    "        #       4 |  \n",
    "        print()\n",
    "        print(\"[scores]\")\n",
    "        \n",
    "        flatten_true=[np.argmax(x) for x in y_test]\n",
    "        flatten_predict=[np.argmax(x) for x in predict_list]\n",
    "        \n",
    "        report = classification_report(flatten_true, \n",
    "                                    flatten_predict,\n",
    "                                    target_names=heart_diseases, \n",
    "                                    digits=4,\n",
    "                                    output_dict=True)\n",
    "        \n",
    "  ##############################\n",
    "        #label/pred | 0 | 1 | 2 | 3 | 4 |\n",
    "        #  0 |                          => sum()=datasets num\n",
    "        #  1 |                          => sum()=datasets num\n",
    "        #  2 |         data num         => sum()=datasets num\n",
    "        #  3 |                          => sum()=datasets num\n",
    "        #  4 |                          => sum()=datasets num\n",
    "        ##############################\n",
    "        r_nums = get_total_num(y_true=flatten_true,\n",
    "                              y_pred=flatten_predict,\n",
    "                              label_num=len(heart_diseases))\n",
    "        print()\n",
    "        print('[row:label | col:prediction]')\n",
    "        for r in r_nums:\n",
    "            print(r)\n",
    "        \n",
    "\n",
    "        \n",
    "        ##############################\n",
    "        #save result\n",
    "        ##############################\n",
    "        print()\n",
    "        print('[save result]')\n",
    "        rs_history_target.append(history)\n",
    "        rs_model_target.append(model)\n",
    "        rs_pred_target.append(flatten_predict)\n",
    "        rs_report_target.append(report)\n",
    "        \n",
    "        \n",
    "        print(\"======================================================\")\n",
    "        print(\"\\n\")"
   ]
  },
  {
   "cell_type": "code",
   "execution_count": null,
   "metadata": {
    "scrolled": false
   },
   "outputs": [],
   "source": [
    "#acc graph \n",
    "#graph with each filter size to compare with filter num\n",
    "for size in range(len(filter_size)):\n",
    "    plt.figure(figsize=(16,5))\n",
    "    for num in range(len(filter_num)):\n",
    "        plt.plot(rs_history[size*len(filter_num)+num].history['accuracy'], \n",
    "                 label=\"num : {}\".format(filter_num[num]))\n",
    "        plt.xlim((0, epochs))\n",
    "        plt.legend()\n",
    "        plt.xlabel('epochs')\n",
    "        plt.ylabel('acc(filter size : {})'.format(filter_size[size]))\n",
    "        print('[acc][size : {}][num : {}]:{}'.format(\n",
    "            filter_size[size],\n",
    "            filter_num[num],\n",
    "            rs_history[size*len(filter_num)+num].history['accuracy'][-1] ))\n",
    "    plt.show()"
   ]
  },
  {
   "cell_type": "code",
   "execution_count": null,
   "metadata": {},
   "outputs": [],
   "source": [
    "ttt_datasets = get_datasets(heart_diseases) #dataset을 directory에서 가져옴\n"
   ]
  },
  {
   "cell_type": "code",
   "execution_count": null,
   "metadata": {},
   "outputs": [],
   "source": [
    "ttt_datasets_norm = normalize_data(ttt_datasets)\n",
    "\n"
   ]
  },
  {
   "cell_type": "code",
   "execution_count": null,
   "metadata": {},
   "outputs": [],
   "source": [
    "print(ttt_datasets[0][0])\n",
    "print(ttt_datasets_norm[0][0])\n",
    "plt.subplot(2,1,1)\n",
    "plt.plot(ttt_datasets[0][0])\n",
    "plt.subplot(2,1,2)\n",
    "plt.plot(ttt_datasets_norm[0][0])"
   ]
  },
  {
   "cell_type": "code",
   "execution_count": null,
   "metadata": {},
   "outputs": [],
   "source": [
    "for i in range(10):\n",
    "    rand_numsss = np.random.randint(len(ttt_datasets_norm[2]), size=None)\n",
    "    plt.subplot(10,2,i+1)\n",
    "    plt.plot(ttt_datasets_norm[2][rand_numsss])\n",
    "    print(model.predict(np.reshape(ttt_datasets_norm[2][rand_numsss], (1, 260, 1))).argmax())"
   ]
  },
  {
   "cell_type": "code",
   "execution_count": null,
   "metadata": {
    "scrolled": false
   },
   "outputs": [],
   "source": [
    "#recall(sen), precision(ppv), f1-score\n",
    "#graph with each filter size to compare with filter num\n",
    "legend = ['filter_size : {}'.format(x) for x in filter_size]\n",
    "#for colkey in ['recall', 'precision', 'f1-score']:\n",
    "for colkey in ['f1-score']:\n",
    "    plt.figure(figsize=(16,5))\n",
    "    for size in range(len(filter_size)):  \n",
    "        y = []\n",
    "        plt.title(\"[{}]\".format(colkey))\n",
    "        plt.xlabel('filter_num')\n",
    "        plt.ylabel('score') \n",
    "        for num in range(len(filter_num)):\n",
    "            #macro avg : average\n",
    "            #micro avg : weighted average\n",
    "            y.append(rs_report[size*len(filter_num)+num]['micro avg'][colkey])\n",
    "        plt.plot([str(x) for x in filter_num],y,'o-')\n",
    "    plt.legend(legend)\n",
    "    plt.show()"
   ]
  },
  {
   "cell_type": "code",
   "execution_count": null,
   "metadata": {},
   "outputs": [],
   "source": [
    "#print score values\n",
    "idx=0\n",
    "f1_score_mean = [0.] * len(rs_model)\n",
    "sen_score_mean = [0.] * len(rs_model)\n",
    "ppv_score_mean = [0.] * len(rs_model)\n",
    "\n",
    "print_cols = ['support', 'recall', 'precision', 'f1-score']\n",
    "for size in filter_size:\n",
    "    for num in filter_num:\n",
    "        print(\"[*]size : {}  /  num : {}\".format(size, num))\n",
    "        data = rs_report[idx]\n",
    "        print(\"{0:<5}\".format(\"\"), end='')\n",
    "        for col in print_cols:\n",
    "             print(\"{0:<17}\".format(col), end='')\n",
    "        print()\n",
    "        print(\"----------------------------------------------------------------\")\n",
    "        for key in heart_diseases:\n",
    "            print(\"{0:<5}\".format(key), end='')\n",
    "            for val in print_cols:\n",
    "                print(\"{0:<15.4f}\".format(round(data[key][val],4)), \n",
    "                                                         end='  ')\n",
    "            print()\n",
    "            f1_score_mean[idx] += data[key]['f1-score']\n",
    "            sen_score_mean[idx] += data[key]['recall']\n",
    "            ppv_score_mean[idx] += data[key]['precision']\n",
    "        print(\"\\n\")\n",
    "        idx+=1"
   ]
  },
  {
   "cell_type": "markdown",
   "metadata": {},
   "source": [
    "### plot multi classification roc curve\n",
    "\n",
    "https://hackernoon.com/simple-guide-on-how-to-generate-roc-plot-for-keras-classifier-2ecc6c73115a\n",
    "https://datascienceschool.net/view-notebook/731e0d2ef52c41c686ba53dcaf346f32/\n",
    "\n",
    "\n",
    "### calulate acc, spec ..\n",
    "\n",
    "https://datascienceschool.net/view-notebook/731e0d2ef52c41c686ba53dcaf346f32/"
   ]
  },
  {
   "cell_type": "code",
   "execution_count": null,
   "metadata": {},
   "outputs": [],
   "source": [
    "def normal(data):\n",
    "    maxval = max(data)\n",
    "    minval = min(data)\n",
    "    data = [(x-minval)/(maxval-minval) for x in data]\n",
    "    return data\n",
    "\n",
    "model_params = [model.count_params() for model in rs_model]\n",
    "plt.title('Compare f1 score & total params')\n",
    "plt.plot(normal(f1_score_mean), label='score')\n",
    "plt.plot(normal(model_params), label='num params')\n",
    "plt.legend()\n",
    "plt.show()\n",
    "\n",
    "\n",
    "sorted_f1_score = np.argsort(f1_score_mean)[::-1]\n",
    "print(\"[*]Order by f1 score(Model Index):\\n{}\".format(sorted_f1_score))\n",
    "sorted_params = np.argsort(model_params)[::-1]\n",
    "print(\"[*]Order by model params(Mdel Index):\\n{}\".format(sorted_params))"
   ]
  },
  {
   "cell_type": "code",
   "execution_count": null,
   "metadata": {
    "scrolled": true
   },
   "outputs": [],
   "source": [
    "import numpy as np\n",
    "from scipy import interp\n",
    "import matplotlib.pyplot as plt\n",
    "from itertools import cycle\n",
    "from sklearn.metrics import roc_curve, auc\n",
    "\n",
    "#test model\n",
    "idx=sorted_f1_score[0]\n",
    "# Plot linewidth.\n",
    "lw = 2\n",
    "#get label\n",
    "tty = np.array(y_test)\n",
    "ttp = np.array(rs_pred[idx])\n",
    "\n",
    "n_values = np.max(ttp) + 1\n",
    "y_score =  np.eye(n_values)[ttp]\n",
    "\n",
    "#plot roc curve\n",
    "n_classes=len(heart_diseases)\n",
    "fpr = [None] * len(heart_diseases)\n",
    "tpr = [None] * len(heart_diseases)\n",
    "thr = [None] * len(heart_diseases)\n",
    "roc_auc=[None] * len(heart_diseases)\n",
    "\n",
    "#endx=1.0\n",
    "#endy=1.0\n",
    "endx=0.02#zoom\n",
    "starty=0.80#zoom\n",
    "\n",
    "###plot roc 0 ~ 1 range\n",
    "for i in range(len(heart_diseases)):\n",
    "    fpr[i], tpr[i], thr[i] = roc_curve(tty[:, i], y_score[:, i])\n",
    "    roc_auc[i] = auc(fpr[i], tpr[i])\n",
    "    plt.plot(fpr[i], tpr[i], \n",
    "             label=\"class {}(area={})\".format(i,round(roc_auc[i],4)))\n",
    "    \n",
    "plt.xlabel('False Positive Rate (Fall-Out)')\n",
    "plt.ylabel('True Positive Rate (Recall)')\n",
    "plt.xlim(0.0,endx)\n",
    "plt.ylim(starty,1.0)\n",
    "plt.legend()\n",
    "plt.show()"
   ]
  },
  {
   "cell_type": "markdown",
   "metadata": {},
   "source": [
    "# Result\n",
    "\n",
    "1. 1st important thing total number of params\n",
    "2. 2nd important thing is number of kernels\n",
    "3. 3rd important thing is balance between number of kernels of size of kernels"
   ]
  }
 ],
 "metadata": {
  "kernelspec": {
   "display_name": "Python 3",
   "language": "python",
   "name": "python3"
  },
  "language_info": {
   "codemirror_mode": {
    "name": "ipython",
    "version": 3
   },
   "file_extension": ".py",
   "mimetype": "text/x-python",
   "name": "python",
   "nbconvert_exporter": "python",
   "pygments_lexer": "ipython3",
   "version": "3.7.3"
  }
 },
 "nbformat": 4,
 "nbformat_minor": 2
}
